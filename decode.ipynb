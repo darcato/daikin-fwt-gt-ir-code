{
 "cells": [
  {
   "cell_type": "code",
   "execution_count": 12,
   "metadata": {},
   "outputs": [],
   "source": [
    "import matplotlib.pyplot as plt\n",
    "from daikin_fwt_gt_lib import *"
   ]
  },
  {
   "cell_type": "markdown",
   "metadata": {},
   "source": [
    "## Decode\n",
    "\n",
    "#### Decode a Daikin IR command starting from the base64 encoded string.\n",
    "\n",
    "We start from some commands recorded via a Broadlink RM4 Mini IR remote, and we want to decode them to understand the structure of the IR command."
   ]
  },
  {
   "cell_type": "code",
   "execution_count": 11,
   "metadata": {},
   "outputs": [
    {
     "data": {
      "text/plain": [
       "['JgCWAAABOwABQAABOwABP5NTCg0LIAsfCg4LHwoNCw4JDgsNCg0LIAoNCw0LDQoNCyAKDQsNCg4KDgoNCw0LDAsOCh8LHwsOCQ4LHwsMCw4LDAsNCwwLIAsNCh8LDgoNCw0LHwoOCiAKDQsgCwwLDQsNCg0LDgofCw0KDgogCwwLDQsNCg4LHwoNCw4KDQsfCyAKAAKRlQANBQ==\\n',\n",
       " 'JgCWAAABOwABPgABPAABQJNSCw0KIAsfCw0KIAsNCg0LDQoNCw4KHwsNCw0LDQsMCx8LIAofCyALDQofDA0LDAsNCx8KIAsNCg0LIAsMCw0LDAsOCwwLHwsNCiALDQoNCw4JIAsNCyAKDQsfCw0KDgsMCw0LDAsgCw0KDQsgCg0LDQoNCw0KIAsfCw4KDQsfCx8LAAKSkwANBQ==\\n',\n",
       " 'JgCWAAABPAABPgABOwABPpVSCw0KHwsgCwwLHwsOCg0LDQofCw4LDAsNCwwLDQsNCx8LDQoNCw4KDQsNCg0LDQoOCx8LIAkOCw0KHwsOCg0LDQoNCw0LHwsNCyAKDQsNCg0LIAsMCx8LDgkgCw0LDAsOCg0LDQsfCg0LDgofCw0KDgoOCg0LHwsNCiALDQoNCyALAAKRlAANBQ==\\n',\n",
       " 'JgCWAAABPAABPwABPAABPpRSCg4LHwogCw0LHwoOCw0KDQsfCg4LDQoNCw0KDgsNCiAKIAsNCg0LIAsfCg0LIAoNCw0KIAsNCwwLIAsNCg0LDQoOCg4KHwsNCx8LDQsNCg4LHwoNCyALDAsfCw4KDQsNCiAKIAsMCw0LDQsfCw0KDgoOCg0LHwsgCh8LDgkgCyAKAAKSlAANBQ==']"
      ]
     },
     "execution_count": 11,
     "metadata": {},
     "output_type": "execute_result"
    }
   ],
   "source": [
    "b64_cmds = open('captured_commands.base64.txt', 'r').readlines()\n",
    "b64_cmds"
   ]
  },
  {
   "cell_type": "markdown",
   "metadata": {},
   "source": [
    "These can be converted to bytes"
   ]
  },
  {
   "cell_type": "code",
   "execution_count": 3,
   "metadata": {},
   "outputs": [
    {
     "data": {
      "text/plain": [
       "[b'&\\x00\\x96\\x00\\x00\\x01;\\x00\\x01@\\x00\\x01;\\x00\\x01?\\x93S\\n\\r\\x0b \\x0b\\x1f\\n\\x0e\\x0b\\x1f\\n\\r\\x0b\\x0e\\t\\x0e\\x0b\\r\\n\\r\\x0b \\n\\r\\x0b\\r\\x0b\\r\\n\\r\\x0b \\n\\r\\x0b\\r\\n\\x0e\\n\\x0e\\n\\r\\x0b\\r\\x0b\\x0c\\x0b\\x0e\\n\\x1f\\x0b\\x1f\\x0b\\x0e\\t\\x0e\\x0b\\x1f\\x0b\\x0c\\x0b\\x0e\\x0b\\x0c\\x0b\\r\\x0b\\x0c\\x0b \\x0b\\r\\n\\x1f\\x0b\\x0e\\n\\r\\x0b\\r\\x0b\\x1f\\n\\x0e\\n \\n\\r\\x0b \\x0b\\x0c\\x0b\\r\\x0b\\r\\n\\r\\x0b\\x0e\\n\\x1f\\x0b\\r\\n\\x0e\\n \\x0b\\x0c\\x0b\\r\\x0b\\r\\n\\x0e\\x0b\\x1f\\n\\r\\x0b\\x0e\\n\\r\\x0b\\x1f\\x0b \\n\\x00\\x02\\x91\\x95\\x00\\r\\x05',\n",
       " b'&\\x00\\x96\\x00\\x00\\x01;\\x00\\x01>\\x00\\x01<\\x00\\x01@\\x93R\\x0b\\r\\n \\x0b\\x1f\\x0b\\r\\n \\x0b\\r\\n\\r\\x0b\\r\\n\\r\\x0b\\x0e\\n\\x1f\\x0b\\r\\x0b\\r\\x0b\\r\\x0b\\x0c\\x0b\\x1f\\x0b \\n\\x1f\\x0b \\x0b\\r\\n\\x1f\\x0c\\r\\x0b\\x0c\\x0b\\r\\x0b\\x1f\\n \\x0b\\r\\n\\r\\x0b \\x0b\\x0c\\x0b\\r\\x0b\\x0c\\x0b\\x0e\\x0b\\x0c\\x0b\\x1f\\x0b\\r\\n \\x0b\\r\\n\\r\\x0b\\x0e\\t \\x0b\\r\\x0b \\n\\r\\x0b\\x1f\\x0b\\r\\n\\x0e\\x0b\\x0c\\x0b\\r\\x0b\\x0c\\x0b \\x0b\\r\\n\\r\\x0b \\n\\r\\x0b\\r\\n\\r\\x0b\\r\\n \\x0b\\x1f\\x0b\\x0e\\n\\r\\x0b\\x1f\\x0b\\x1f\\x0b\\x00\\x02\\x92\\x93\\x00\\r\\x05',\n",
       " b'&\\x00\\x96\\x00\\x00\\x01<\\x00\\x01>\\x00\\x01;\\x00\\x01>\\x95R\\x0b\\r\\n\\x1f\\x0b \\x0b\\x0c\\x0b\\x1f\\x0b\\x0e\\n\\r\\x0b\\r\\n\\x1f\\x0b\\x0e\\x0b\\x0c\\x0b\\r\\x0b\\x0c\\x0b\\r\\x0b\\r\\x0b\\x1f\\x0b\\r\\n\\r\\x0b\\x0e\\n\\r\\x0b\\r\\n\\r\\x0b\\r\\n\\x0e\\x0b\\x1f\\x0b \\t\\x0e\\x0b\\r\\n\\x1f\\x0b\\x0e\\n\\r\\x0b\\r\\n\\r\\x0b\\r\\x0b\\x1f\\x0b\\r\\x0b \\n\\r\\x0b\\r\\n\\r\\x0b \\x0b\\x0c\\x0b\\x1f\\x0b\\x0e\\t \\x0b\\r\\x0b\\x0c\\x0b\\x0e\\n\\r\\x0b\\r\\x0b\\x1f\\n\\r\\x0b\\x0e\\n\\x1f\\x0b\\r\\n\\x0e\\n\\x0e\\n\\r\\x0b\\x1f\\x0b\\r\\n \\x0b\\r\\n\\r\\x0b \\x0b\\x00\\x02\\x91\\x94\\x00\\r\\x05',\n",
       " b'&\\x00\\x96\\x00\\x00\\x01<\\x00\\x01?\\x00\\x01<\\x00\\x01>\\x94R\\n\\x0e\\x0b\\x1f\\n \\x0b\\r\\x0b\\x1f\\n\\x0e\\x0b\\r\\n\\r\\x0b\\x1f\\n\\x0e\\x0b\\r\\n\\r\\x0b\\r\\n\\x0e\\x0b\\r\\n \\n \\x0b\\r\\n\\r\\x0b \\x0b\\x1f\\n\\r\\x0b \\n\\r\\x0b\\r\\n \\x0b\\r\\x0b\\x0c\\x0b \\x0b\\r\\n\\r\\x0b\\r\\n\\x0e\\n\\x0e\\n\\x1f\\x0b\\r\\x0b\\x1f\\x0b\\r\\x0b\\r\\n\\x0e\\x0b\\x1f\\n\\r\\x0b \\x0b\\x0c\\x0b\\x1f\\x0b\\x0e\\n\\r\\x0b\\r\\n \\n \\x0b\\x0c\\x0b\\r\\x0b\\r\\x0b\\x1f\\x0b\\r\\n\\x0e\\n\\x0e\\n\\r\\x0b\\x1f\\x0b \\n\\x1f\\x0b\\x0e\\t \\x0b \\n\\x00\\x02\\x92\\x94\\x00\\r\\x05']"
      ]
     },
     "execution_count": 3,
     "metadata": {},
     "output_type": "execute_result"
    }
   ],
   "source": [
    "cmds = [base64.b64decode(cmd) for cmd in b64_cmds]\n",
    "cmds"
   ]
  },
  {
   "cell_type": "code",
   "execution_count": 4,
   "metadata": {},
   "outputs": [
    {
     "name": "stdout",
     "output_type": "stream",
     "text": [
      "26 00 96 00 00 01 3b 00\n",
      "01 40 00 01 3b 00 01 3f\n",
      "93 53 0a 0d 0b 20 0b 1f\n",
      "0a 0e 0b 1f 0a 0d 0b 0e\n",
      "09 0e 0b 0d 0a 0d 0b 20\n",
      "0a 0d 0b 0d 0b 0d 0a 0d\n",
      "0b 20 0a 0d 0b 0d 0a 0e\n",
      "0a 0e 0a 0d 0b 0d 0b 0c\n",
      "0b 0e 0a 1f 0b 1f 0b 0e\n",
      "09 0e 0b 1f 0b 0c 0b 0e\n",
      "0b 0c 0b 0d 0b 0c 0b 20\n",
      "0b 0d 0a 1f 0b 0e 0a 0d\n",
      "0b 0d 0b 1f 0a 0e 0a 20\n",
      "0a 0d 0b 20 0b 0c 0b 0d\n",
      "0b 0d 0a 0d 0b 0e 0a 1f\n",
      "0b 0d 0a 0e 0a 20 0b 0c\n",
      "0b 0d 0b 0d 0a 0e 0b 1f\n",
      "0a 0d 0b 0e 0a 0d 0b 1f\n",
      "0b 20 0a 00 02 91 95 00\n",
      "0d 05\n"
     ]
    }
   ],
   "source": [
    "print_bytes(cmds[0], 'hex', line=8)"
   ]
  },
  {
   "cell_type": "code",
   "execution_count": 5,
   "metadata": {},
   "outputs": [
    {
     "name": "stdout",
     "output_type": "stream",
     "text": [
      "00100110 00000000 10010110 00000000 00000000 00000001 00111011 00000000\n",
      "00000001 01000000 00000000 00000001 00111011 00000000 00000001 00111111\n",
      "10010011 01010011 00001010 00001101 00001011 00100000 00001011 00011111\n",
      "00001010 00001110 00001011 00011111 00001010 00001101 00001011 00001110\n",
      "00001001 00001110 00001011 00001101 00001010 00001101 00001011 00100000\n",
      "00001010 00001101 00001011 00001101 00001011 00001101 00001010 00001101\n",
      "00001011 00100000 00001010 00001101 00001011 00001101 00001010 00001110\n",
      "00001010 00001110 00001010 00001101 00001011 00001101 00001011 00001100\n",
      "00001011 00001110 00001010 00011111 00001011 00011111 00001011 00001110\n",
      "00001001 00001110 00001011 00011111 00001011 00001100 00001011 00001110\n",
      "00001011 00001100 00001011 00001101 00001011 00001100 00001011 00100000\n",
      "00001011 00001101 00001010 00011111 00001011 00001110 00001010 00001101\n",
      "00001011 00001101 00001011 00011111 00001010 00001110 00001010 00100000\n",
      "00001010 00001101 00001011 00100000 00001011 00001100 00001011 00001101\n",
      "00001011 00001101 00001010 00001101 00001011 00001110 00001010 00011111\n",
      "00001011 00001101 00001010 00001110 00001010 00100000 00001011 00001100\n",
      "00001011 00001101 00001011 00001101 00001010 00001110 00001011 00011111\n",
      "00001010 00001101 00001011 00001110 00001010 00001101 00001011 00011111\n",
      "00001011 00100000 00001010 00000000 00000010 10010001 10010101 00000000\n",
      "00001101 00000101\n"
     ]
    }
   ],
   "source": [
    "print_bytes(cmds[0], 'bin', line=8)"
   ]
  },
  {
   "cell_type": "markdown",
   "metadata": {},
   "source": [
    "Then we can convert the bytes to integers by using two bytes per integer, using the little endian convention."
   ]
  },
  {
   "cell_type": "code",
   "execution_count": 6,
   "metadata": {},
   "outputs": [
    {
     "data": {
      "text/plain": [
       "(array([   38,   150,   256,    59, 16385,   256,    59, 16129, 21395,\n",
       "         3338,  8203,  7947,  3594,  7947,  3338,  3595,  3593,  3339,\n",
       "         3338,  8203,  3338,  3339,  3339,  3338,  8203,  3338,  3339,\n",
       "         3594,  3594,  3338,  3339,  3083,  3595,  7946,  7947,  3595,\n",
       "         3593,  7947,  3083,  3595,  3083,  3339,  3083,  8203,  3339,\n",
       "         7946,  3595,  3338,  3339,  7947,  3594,  8202,  3338,  8203,\n",
       "         3083,  3339,  3339,  3338,  3595,  7946,  3339,  3594,  8202,\n",
       "         3083,  3339,  3339,  3594,  7947,  3338,  3595,  3338,  7947,\n",
       "         8203,    10, 37122,   149,  1293]),\n",
       " array([   38,   150,   256,    59, 15873,   256,    60, 16385, 21139,\n",
       "         3339,  8202,  7947,  3339,  8202,  3339,  3338,  3339,  3338,\n",
       "         3595,  7946,  3339,  3339,  3339,  3083,  7947,  8203,  7946,\n",
       "         8203,  3339,  7946,  3340,  3083,  3339,  7947,  8202,  3339,\n",
       "         3338,  8203,  3083,  3339,  3083,  3595,  3083,  7947,  3339,\n",
       "         8202,  3339,  3338,  3595,  8201,  3339,  8203,  3338,  7947,\n",
       "         3339,  3594,  3083,  3339,  3083,  8203,  3339,  3338,  8203,\n",
       "         3338,  3339,  3338,  3339,  8202,  7947,  3595,  3338,  7947,\n",
       "         7947,    11, 37378,   147,  1293]))"
      ]
     },
     "execution_count": 6,
     "metadata": {},
     "output_type": "execute_result"
    }
   ],
   "source": [
    "times = [bytes_to_times(cmd) for cmd in cmds]\n",
    "times[0], times[1]"
   ]
  },
  {
   "cell_type": "markdown",
   "metadata": {},
   "source": [
    "As can be seen, there is a pattern in the values. They are composed of:\n",
    "- a prefix similar to: `[38,   150,   256,    59, 16385,   256,    59, 16129, 21395]`\n",
    "- a body composed of values which are either `~3338` or `~7947`\n",
    "- a suffix similar to: `[11, 37378,   147,  1293]`\n",
    "\n",
    "Let's extract the body by trigger on the `~21000` and `~37000` values, and inspect it:"
   ]
  },
  {
   "cell_type": "code",
   "execution_count": 7,
   "metadata": {},
   "outputs": [
    {
     "data": {
      "text/plain": [
       "array([3338, 8203, 7947, 3594, 7947, 3338, 3595, 3593, 3339, 3338, 8203,\n",
       "       3338, 3339, 3339, 3338, 8203, 3338, 3339, 3594, 3594, 3338, 3339,\n",
       "       3083, 3595, 7946, 7947, 3595, 3593, 7947, 3083, 3595, 3083, 3339,\n",
       "       3083, 8203, 3339, 7946, 3595, 3338, 3339, 7947, 3594, 8202, 3338,\n",
       "       8203, 3083, 3339, 3339, 3338, 3595, 7946, 3339, 3594, 8202, 3083,\n",
       "       3339, 3339, 3594, 7947, 3338, 3595, 3338, 7947, 8203])"
      ]
     },
     "execution_count": 7,
     "metadata": {},
     "output_type": "execute_result"
    }
   ],
   "source": [
    "triggered = [trigger_on_times(t) for t in times]\n",
    "triggered[0]"
   ]
  },
  {
   "cell_type": "code",
   "execution_count": 8,
   "metadata": {},
   "outputs": [
    {
     "data": {
      "image/png": "[encoded data removed]",
      "text/plain": [
       "<Figure size 1120x480 with 1 Axes>"
      ]
     },
     "metadata": {
      "needs_background": "light"
     },
     "output_type": "display_data"
    }
   ],
   "source": [
    "plt.figure(figsize=(14, 6), dpi=80)\n",
    "for i, t in enumerate(triggered):\n",
    "    plt.hist(t, bins=50, alpha=0.5, label=f'cmd {i}')\n",
    "plt.legend()\n",
    "plt.show()"
   ]
  },
  {
   "cell_type": "markdown",
   "metadata": {},
   "source": [
    "This confirms the pattern. The body is composed of 2 values, which are either `~3338` or `~7947`.\n",
    "\n",
    "The values `~3338` represent a `0`, while `~7947` represent a `1`. We can convert the body to a binary array."
   ]
  },
  {
   "cell_type": "code",
   "execution_count": 9,
   "metadata": {},
   "outputs": [
    {
     "name": "stdout",
     "output_type": "stream",
     "text": [
      "cmd 0: 00010110 10000100 00000000 00010011 00010100 00010101 00100100 11000100\n",
      "cmd 1: 00010110 10000100 00010111 00010011 00010100 00010101 00100100 11001100\n",
      "cmd 2: 00010110 10000001 00000000 00010011 00010100 00010101 00100100 10010100\n",
      "cmd 3: 00010110 10000001 01011001 00010010 00010100 00010101 00100011 11011100\n"
     ]
    }
   ],
   "source": [
    "bins = [times_to_bin(t) for t in triggered]\n",
    "for i, b in enumerate(bins):\n",
    "    print(f'cmd {i}:', end=' ')\n",
    "    print_bytes(b, 'bin')"
   ]
  },
  {
   "cell_type": "markdown",
   "metadata": {},
   "source": [
    "Now, we have the 64 bits of the daikin protocol. We can extract the temperature, the mode, the fan speed, the swing, the power, and the timer."
   ]
  },
  {
   "cell_type": "code",
   "execution_count": 10,
   "metadata": {},
   "outputs": [
    {
     "name": "stdout",
     "output_type": "stream",
     "text": [
      "Fan mode: low\n",
      "Mode: fan_only\n",
      "Clock: 13:00\n",
      "Time on: OFF 14:00\n",
      "Time off: OFF 15:00\n",
      "Temperature: 24\n",
      "Checksum: 12, Calculated: 12\n",
      "Power Toggle: OFF\n",
      "Sleep: OFF\n",
      "Swing: OFF\n"
     ]
    }
   ],
   "source": [
    "explain_cmd(bins[0])"
   ]
  }
 ],
 "metadata": {
  "kernelspec": {
   "display_name": "base",
   "language": "python",
   "name": "python3"
  },
  "language_info": {
   "codemirror_mode": {
    "name": "ipython",
    "version": 3
   },
   "file_extension": ".py",
   "mimetype": "text/x-python",
   "name": "python",
   "nbconvert_exporter": "python",
   "pygments_lexer": "ipython3",
   "version": "3.9.12"
  },
  "orig_nbformat": 4
 },
 "nbformat": 4,
 "nbformat_minor": 2
}
