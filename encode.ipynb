{
 "cells": [
  {
   "cell_type": "code",
   "execution_count": 3,
   "metadata": {},
   "outputs": [],
   "source": [
    "from daikin_fwt_gt_lib import *"
   ]
  },
  {
   "cell_type": "markdown",
   "metadata": {},
   "source": [
    "## Encode\n",
    "\n",
    "#### Build a new command from scratch, following the daikin protocol. Then encode the command to the IR signal.\n",
    "\n",
    "Let's start by loading the captured commands:"
   ]
  },
  {
   "cell_type": "code",
   "execution_count": null,
   "metadata": {},
   "outputs": [
    {
     "data": {
      "text/plain": [
       "[b'&\\x00\\x96\\x00\\x00\\x01;\\x00\\x01@\\x00\\x01;\\x00\\x01?\\x93S\\n\\r\\x0b \\x0b\\x1f\\n\\x0e\\x0b\\x1f\\n\\r\\x0b\\x0e\\t\\x0e\\x0b\\r\\n\\r\\x0b \\n\\r\\x0b\\r\\x0b\\r\\n\\r\\x0b \\n\\r\\x0b\\r\\n\\x0e\\n\\x0e\\n\\r\\x0b\\r\\x0b\\x0c\\x0b\\x0e\\n\\x1f\\x0b\\x1f\\x0b\\x0e\\t\\x0e\\x0b\\x1f\\x0b\\x0c\\x0b\\x0e\\x0b\\x0c\\x0b\\r\\x0b\\x0c\\x0b \\x0b\\r\\n\\x1f\\x0b\\x0e\\n\\r\\x0b\\r\\x0b\\x1f\\n\\x0e\\n \\n\\r\\x0b \\x0b\\x0c\\x0b\\r\\x0b\\r\\n\\r\\x0b\\x0e\\n\\x1f\\x0b\\r\\n\\x0e\\n \\x0b\\x0c\\x0b\\r\\x0b\\r\\n\\x0e\\x0b\\x1f\\n\\r\\x0b\\x0e\\n\\r\\x0b\\x1f\\x0b \\n\\x00\\x02\\x91\\x95\\x00\\r\\x05',\n",
       " b'&\\x00\\x96\\x00\\x00\\x01;\\x00\\x01>\\x00\\x01<\\x00\\x01@\\x93R\\x0b\\r\\n \\x0b\\x1f\\x0b\\r\\n \\x0b\\r\\n\\r\\x0b\\r\\n\\r\\x0b\\x0e\\n\\x1f\\x0b\\r\\x0b\\r\\x0b\\r\\x0b\\x0c\\x0b\\x1f\\x0b \\n\\x1f\\x0b \\x0b\\r\\n\\x1f\\x0c\\r\\x0b\\x0c\\x0b\\r\\x0b\\x1f\\n \\x0b\\r\\n\\r\\x0b \\x0b\\x0c\\x0b\\r\\x0b\\x0c\\x0b\\x0e\\x0b\\x0c\\x0b\\x1f\\x0b\\r\\n \\x0b\\r\\n\\r\\x0b\\x0e\\t \\x0b\\r\\x0b \\n\\r\\x0b\\x1f\\x0b\\r\\n\\x0e\\x0b\\x0c\\x0b\\r\\x0b\\x0c\\x0b \\x0b\\r\\n\\r\\x0b \\n\\r\\x0b\\r\\n\\r\\x0b\\r\\n \\x0b\\x1f\\x0b\\x0e\\n\\r\\x0b\\x1f\\x0b\\x1f\\x0b\\x00\\x02\\x92\\x93\\x00\\r\\x05',\n",
       " b'&\\x00\\x96\\x00\\x00\\x01<\\x00\\x01>\\x00\\x01;\\x00\\x01>\\x95R\\x0b\\r\\n\\x1f\\x0b \\x0b\\x0c\\x0b\\x1f\\x0b\\x0e\\n\\r\\x0b\\r\\n\\x1f\\x0b\\x0e\\x0b\\x0c\\x0b\\r\\x0b\\x0c\\x0b\\r\\x0b\\r\\x0b\\x1f\\x0b\\r\\n\\r\\x0b\\x0e\\n\\r\\x0b\\r\\n\\r\\x0b\\r\\n\\x0e\\x0b\\x1f\\x0b \\t\\x0e\\x0b\\r\\n\\x1f\\x0b\\x0e\\n\\r\\x0b\\r\\n\\r\\x0b\\r\\x0b\\x1f\\x0b\\r\\x0b \\n\\r\\x0b\\r\\n\\r\\x0b \\x0b\\x0c\\x0b\\x1f\\x0b\\x0e\\t \\x0b\\r\\x0b\\x0c\\x0b\\x0e\\n\\r\\x0b\\r\\x0b\\x1f\\n\\r\\x0b\\x0e\\n\\x1f\\x0b\\r\\n\\x0e\\n\\x0e\\n\\r\\x0b\\x1f\\x0b\\r\\n \\x0b\\r\\n\\r\\x0b \\x0b\\x00\\x02\\x91\\x94\\x00\\r\\x05',\n",
       " b'&\\x00\\x96\\x00\\x00\\x01<\\x00\\x01?\\x00\\x01<\\x00\\x01>\\x94R\\n\\x0e\\x0b\\x1f\\n \\x0b\\r\\x0b\\x1f\\n\\x0e\\x0b\\r\\n\\r\\x0b\\x1f\\n\\x0e\\x0b\\r\\n\\r\\x0b\\r\\n\\x0e\\x0b\\r\\n \\n \\x0b\\r\\n\\r\\x0b \\x0b\\x1f\\n\\r\\x0b \\n\\r\\x0b\\r\\n \\x0b\\r\\x0b\\x0c\\x0b \\x0b\\r\\n\\r\\x0b\\r\\n\\x0e\\n\\x0e\\n\\x1f\\x0b\\r\\x0b\\x1f\\x0b\\r\\x0b\\r\\n\\x0e\\x0b\\x1f\\n\\r\\x0b \\x0b\\x0c\\x0b\\x1f\\x0b\\x0e\\n\\r\\x0b\\r\\n \\n \\x0b\\x0c\\x0b\\r\\x0b\\r\\x0b\\x1f\\x0b\\r\\n\\x0e\\n\\x0e\\n\\r\\x0b\\x1f\\x0b \\n\\x1f\\x0b\\x0e\\t \\x0b \\n\\x00\\x02\\x92\\x94\\x00\\r\\x05']"
      ]
     },
     "execution_count": 2,
     "metadata": {},
     "output_type": "execute_result"
    }
   ],
   "source": [
    "b64_cmds = open('captured_commands.base64.txt', 'r').readlines()\n",
    "cmds = [base64.b64decode(cmd) for cmd in b64_cmds]\n",
    "cmds"
   ]
  },
  {
   "cell_type": "code",
   "execution_count": null,
   "metadata": {},
   "outputs": [
    {
     "name": "stdout",
     "output_type": "stream",
     "text": [
      "00010110 10000100 00000000 00010011 00010100 00010101 00100100 11000100\n",
      "Fan mode: low\n",
      "Mode: fan_only\n",
      "Clock: 13:00\n",
      "Time on: OFF 14:00\n",
      "Time off: OFF 15:00\n",
      "Temperature: 24\n",
      "Checksum: 12, Calculated: 12\n",
      "Power Toggle: OFF\n",
      "Sleep: OFF\n",
      "Swing: OFF\n"
     ]
    }
   ],
   "source": [
    "print_bytes(decode_cmd(cmds[0]))\n",
    "explain_cmd(decode_cmd(cmds[0]))"
   ]
  },
  {
   "cell_type": "markdown",
   "metadata": {},
   "source": [
    "We can build the same command from scratch, using the following code:"
   ]
  },
  {
   "cell_type": "code",
   "execution_count": null,
   "metadata": {},
   "outputs": [
    {
     "name": "stdout",
     "output_type": "stream",
     "text": [
      "00010110 10000100 00000000 00010011 00010100 00010101 00100100 11000100\n",
      "Fan mode: low\n",
      "Mode: fan_only\n",
      "Clock: 13:00\n",
      "Time on: OFF 14:00\n",
      "Time off: OFF 15:00\n",
      "Temperature: 24\n",
      "Checksum: 12, Calculated: 12\n",
      "Power Toggle: OFF\n",
      "Sleep: OFF\n",
      "Swing: OFF\n"
     ]
    }
   ],
   "source": [
    "cmd = build_cmd(fan_mode=\"low\", \n",
    "                mode=\"fan_only\", \n",
    "                clock_hours=13,\n",
    "                clock_minutes=00,\n",
    "                timeon_hours=14,\n",
    "                timeon_halfhour=0,\n",
    "                timeon_on=0,\n",
    "                timeoff_hours=15,\n",
    "                timeoff_halfhour=0,\n",
    "                timeoff_on=0,\n",
    "                temperature=24,\n",
    "                power_toggle=0,\n",
    "                sleep=0,\n",
    "                swing=0)\n",
    "print_bytes(cmd)\n",
    "explain_cmd(cmd)"
   ]
  },
  {
   "cell_type": "markdown",
   "metadata": {},
   "source": [
    "Then we add the prefix and suffix and encode the command as a sequence of IR pulses:"
   ]
  },
  {
   "cell_type": "code",
   "execution_count": null,
   "metadata": {},
   "outputs": [
    {
     "data": {
      "text/plain": [
       "array([   38,   150,   256,    59, 15873,   256,    60, 15873, 20885,\n",
       "        3338,  7947,  7947,  3338,  7947,  3338,  3338,  3338,  3338,\n",
       "        3338,  7947,  3338,  3338,  3338,  3338,  7947,  3338,  3338,\n",
       "        3338,  3338,  3338,  3338,  3338,  3338,  7947,  7947,  3338,\n",
       "        3338,  7947,  3338,  3338,  3338,  3338,  3338,  7947,  3338,\n",
       "        7947,  3338,  3338,  3338,  7947,  3338,  7947,  3338,  7947,\n",
       "        3338,  3338,  3338,  3338,  3338,  7947,  3338,  3338,  7947,\n",
       "        3338,  3338,  3338,  3338,  7947,  3338,  3338,  3338,  7947,\n",
       "        7947,    11, 37122,   148,  1293])"
      ]
     },
     "execution_count": 5,
     "metadata": {},
     "output_type": "execute_result"
    }
   ],
   "source": [
    "cmd_as_times = bin_to_times(cmd)\n",
    "cmd_as_times"
   ]
  },
  {
   "cell_type": "code",
   "execution_count": null,
   "metadata": {},
   "outputs": [
    {
     "data": {
      "text/plain": [
       "b'&\\x00\\x96\\x00\\x00\\x01;\\x00\\x01>\\x00\\x01<\\x00\\x01>\\x95Q\\n\\r\\x0b\\x1f\\x0b\\x1f\\n\\r\\x0b\\x1f\\n\\r\\n\\r\\n\\r\\n\\r\\n\\r\\x0b\\x1f\\n\\r\\n\\r\\n\\r\\n\\r\\x0b\\x1f\\n\\r\\n\\r\\n\\r\\n\\r\\n\\r\\n\\r\\n\\r\\n\\r\\x0b\\x1f\\x0b\\x1f\\n\\r\\n\\r\\x0b\\x1f\\n\\r\\n\\r\\n\\r\\n\\r\\n\\r\\x0b\\x1f\\n\\r\\x0b\\x1f\\n\\r\\n\\r\\n\\r\\x0b\\x1f\\n\\r\\x0b\\x1f\\n\\r\\x0b\\x1f\\n\\r\\n\\r\\n\\r\\n\\r\\n\\r\\x0b\\x1f\\n\\r\\n\\r\\x0b\\x1f\\n\\r\\n\\r\\n\\r\\n\\r\\x0b\\x1f\\n\\r\\n\\r\\n\\r\\x0b\\x1f\\x0b\\x1f\\x0b\\x00\\x02\\x91\\x94\\x00\\r\\x05'"
      ]
     },
     "execution_count": 6,
     "metadata": {},
     "output_type": "execute_result"
    }
   ],
   "source": [
    "cmd_as_bytes = times_to_bytes(cmd_as_times)\n",
    "cmd_as_bytes\n"
   ]
  },
  {
   "cell_type": "markdown",
   "metadata": {},
   "source": [
    "We can verify that this command is equivalent to the original one by decoding it:"
   ]
  },
  {
   "cell_type": "code",
   "execution_count": null,
   "metadata": {},
   "outputs": [
    {
     "name": "stdout",
     "output_type": "stream",
     "text": [
      "00010110 10000100 00000000 00010011 00010100 00010101 00100100 11000100\n",
      "Fan mode: low\n",
      "Mode: fan_only\n",
      "Clock: 13:00\n",
      "Time on: OFF 14:00\n",
      "Time off: OFF 15:00\n",
      "Temperature: 24\n",
      "Checksum: 12, Calculated: 12\n",
      "Power Toggle: OFF\n",
      "Sleep: OFF\n",
      "Swing: OFF\n"
     ]
    }
   ],
   "source": [
    "verify = decode_cmd(cmd_as_bytes)\n",
    "print_bytes(verify)\n",
    "explain_cmd(verify)"
   ]
  },
  {
   "cell_type": "markdown",
   "metadata": {},
   "source": [
    "Finally, we can use base64 encoding to make it easier to share:"
   ]
  },
  {
   "cell_type": "code",
   "execution_count": null,
   "metadata": {},
   "outputs": [
    {
     "data": {
      "text/plain": [
       "'JgCWAAABOwABPgABPAABPpVRCg0LHwsfCg0LHwoNCg0KDQoNCg0LHwoNCg0KDQoNCx8KDQoNCg0KDQoNCg0KDQoNCx8LHwoNCg0LHwoNCg0KDQoNCg0LHwoNCx8KDQoNCg0LHwoNCx8KDQsfCg0KDQoNCg0KDQsfCg0KDQsfCg0KDQoNCg0LHwoNCg0KDQsfCx8LAAKRlAANBQ=='"
      ]
     },
     "execution_count": 8,
     "metadata": {},
     "output_type": "execute_result"
    }
   ],
   "source": [
    "base64.b64encode(cmd_as_bytes).decode()"
   ]
  }
 ],
 "metadata": {
  "kernelspec": {
   "display_name": "base",
   "language": "python",
   "name": "python3"
  },
  "language_info": {
   "codemirror_mode": {
    "name": "ipython",
    "version": 3
   },
   "file_extension": ".py",
   "mimetype": "text/x-python",
   "name": "python",
   "nbconvert_exporter": "python",
   "pygments_lexer": "ipython3",
   "version": "3.9.12"
  }
 },
 "nbformat": 4,
 "nbformat_minor": 2
}
