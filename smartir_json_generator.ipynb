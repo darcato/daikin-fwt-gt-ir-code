{
 "cells": [
  {
   "cell_type": "code",
   "execution_count": 4,
   "metadata": {},
   "outputs": [],
   "source": [
    "import json\n",
    "from daikin_fwt_gt_lib import *"
   ]
  },
  {
   "cell_type": "markdown",
   "metadata": {},
   "source": [
    "### Populate JSON file\n",
    "\n",
    "This populates the commands section of the JSON file used by [SmartIR](https://github.com/litinoveweedle/SmartIR) to control the air conditioner via home assistant."
   ]
  },
  {
   "cell_type": "code",
   "execution_count": 5,
   "metadata": {},
   "outputs": [],
   "source": [
    "with open(\"3102.json\") as f:\n",
    "    data = json.load(f)\n",
    "commands = {}\n",
    "commands[\"off\"] = build_cmd_to_json(power_toggle=1)\n",
    "commands[\"on\"] = build_cmd_to_json(power_toggle=1)\n",
    "for mode in data[\"operationModes\"]:\n",
    "    commands[mode] = {}\n",
    "    for preset in supported_presets(mode):\n",
    "        commands[mode][preset] = {}\n",
    "        for fan in supported_fan_modes(mode):\n",
    "            commands[mode][preset][fan] = {}\n",
    "            for swing in data[\"swingModes\"]:\n",
    "                commands[mode][preset][fan][swing] = {}\n",
    "                for temperature in supported_temperatures(mode):\n",
    "                    cmd = build_cmd_to_json(fan_mode=fan if fan != \"-\" else \"medium\",\n",
    "                                            mode=mode,\n",
    "                                            temperature=temperature if temperature != \"-\" else 25,\n",
    "                                            sleep=1 if preset == \"sleep\" else 0,\n",
    "                                            swing=1 if swing == \"swing\" else 0)\n",
    "                    commands[mode][preset][fan][swing][temperature] = cmd\n",
    "\n",
    "data[\"commands\"] = commands\n",
    "json.dump(data, open(\"3102.json\", \"w\"), indent=2)\n"
   ]
  },
  {
   "cell_type": "code",
   "execution_count": null,
   "metadata": {},
   "outputs": [],
   "source": []
  }
 ],
 "metadata": {
  "kernelspec": {
   "display_name": "base",
   "language": "python",
   "name": "python3"
  },
  "language_info": {
   "codemirror_mode": {
    "name": "ipython",
    "version": 3
   },
   "file_extension": ".py",
   "mimetype": "text/x-python",
   "name": "python",
   "nbconvert_exporter": "python",
   "pygments_lexer": "ipython3",
   "version": "3.9.12"
  }
 },
 "nbformat": 4,
 "nbformat_minor": 2
}
